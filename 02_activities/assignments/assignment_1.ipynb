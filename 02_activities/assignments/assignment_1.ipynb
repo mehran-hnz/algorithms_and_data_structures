{
 "cells": [
  {
   "cell_type": "markdown",
   "metadata": {},
   "source": [
    "# Coding Problems\n",
    "\n",
    "## Objective\n",
    "\n",
    "This assignment aims to demonstrate how to study a data structures or algorithms question in depth to prepare for an industry coding interview. Leetcode is a popular coding practice site that many use to practice for technical interviews. Like behavioral interviews, it's important to practice and keep your skills sharp.\n",
    "\n",
    "## Group Size\n",
    "\n",
    "Please complete this individually.\n",
    "\n",
    "## Part 1:\n",
    "\n",
    "_*You will be assigned one of three problems based of your first name. Execute the code below, and that will tell you your assigned problem. Include the output as part of your submission (do not clear the output). The problems are based-off problems from Leetcode.*_\n"
   ]
  },
  {
   "cell_type": "code",
   "execution_count": 2,
   "metadata": {},
   "outputs": [
    {
     "name": "stdout",
     "output_type": "stream",
     "text": [
      "3\n"
     ]
    }
   ],
   "source": [
    "print((hash('mehran') % 3) + 1)"
   ]
  },
  {
   "cell_type": "markdown",
   "metadata": {},
   "source": [
    "<details>\n",
    "  <summary>Question 1</summary>\n",
    "\n",
    "  # Question One: Check Duplicates in Tree\n",
    "\n",
    "  Given the `root` of a binary tree, check whether it is contains a duplicate value. If a duplicate exists, return the duplicate value. If there are multiple duplicates, return the one with the closest distance to the root. If no duplicate exists, return -1.\n",
    "\n",
    "  ## Examples\n",
    "\n",
    "  ### Example 1\n",
    "\n",
    "  ![](./images/q1_ex1.png)\n",
    "\n",
    "  Input: `root = [1, 2, 2, 3, 5, 6, 7]` *What traversal method is this?*\n",
    "\n",
    "  Output: 2\n",
    "\n",
    "  ### Example 2\n",
    "\n",
    "  ![](./images/q1_ex2.png)\n",
    "\n",
    "  Input: `root = [1, 10, 2, 3, 10, 12, 12]`\n",
    "\n",
    "  Output: 10\n",
    "\n",
    "  ### Example 3\n",
    "\n",
    "  ![](./images/q1_ex3.png)\n",
    "\n",
    "  Input: `root = [10, 9, 8, 7]`\n",
    "\n",
    "  Output: -1\n",
    "\n",
    "</details>\n",
    "\n",
    "#### Starter Code for Question 1"
   ]
  },
  {
   "cell_type": "code",
   "execution_count": null,
   "metadata": {},
   "outputs": [],
   "source": [
    "# Definition for a binary tree node.\n",
    "# class TreeNode(object):\n",
    "#     def __init__(self, val = 0, left = None, right = None):\n",
    "#         self.val = val\n",
    "#         self.left = left\n",
    "#         self.right = right\n",
    "def is_duplicate(root: TreeNode) -> int:\n",
    "  # TODO"
   ]
  },
  {
   "cell_type": "markdown",
   "metadata": {},
   "source": [
    "<details>\n",
    "  <summary>Question 2</summary>\n",
    "\n",
    "  # Question Two: Path to Leaves\n",
    "\n",
    "  Given the `root` of a binary tree, return all root to leaf paths in any order.\n",
    "\n",
    "  ## Examples\n",
    "\n",
    "  ### Example 1\n",
    "\n",
    "  ![](./images/q1_ex1.png)\n",
    "\n",
    "  Input: `root = [1, 2, 2, 3, 5, 6, 7]` *What traversal method is this?*\n",
    "\n",
    "  Output: [[1, 2, 3], [1, 2, 5], [1, 2, 6], [1, 2, 7]]\n",
    "\n",
    "  ### Example 2\n",
    "\n",
    "  ![](./images/q1_ex3.png)\n",
    "\n",
    "  Input: `root = [10, 9, 7, 8]`\n",
    "\n",
    "  Output: [[10, 7], [10, 9, 8]]\n",
    "\n",
    "</details>\n",
    "\n",
    "#### Starter Code for Question 2"
   ]
  },
  {
   "cell_type": "code",
   "execution_count": null,
   "metadata": {},
   "outputs": [],
   "source": [
    "# Definition for a binary tree node.\n",
    "# class TreeNode(object):\n",
    "#     def __init__(self, val = 0, left = None, right = None):\n",
    "#         self.val = val\n",
    "#         self.left = left\n",
    "#         self.right = right\n",
    "def bt_path(root: TreeNode) -> List[List[int]]:\n",
    "  # TODO"
   ]
  },
  {
   "cell_type": "markdown",
   "metadata": {},
   "source": [
    "<details>\n",
    "  <summary>Question 3</summary>\n",
    "\n",
    "  # Question Three: Missing Number in Range\n",
    " \n",
    "  You are given a list containing `n` integers in the range `[0, n]`. Return a list of numbers that are missing from the range `[0, n]` of the array. If there is no missing number, return -1. Note, all the integers in the list may not be unique.\n",
    "  \n",
    "  ## Examples\n",
    "\n",
    "  ### Example 1\n",
    "\n",
    "  Input: `lst = [0, 2]`\n",
    "\n",
    "  Output: [1]\n",
    "\n",
    "  ### Example 2\n",
    "\n",
    "  Input: `lst = [5, 0, 1]`\n",
    "\n",
    "  Output: [2, 3, 4]\n",
    "\n",
    "  ### Example 3\n",
    "\n",
    "  Input: `lst = [6, 8, 2, 3, 5, 7, 0, 1, 10]`\n",
    "\n",
    "  Output: [4, 9]\n",
    "\n",
    "</details>\n",
    "\n",
    "#### Starter Code for Question 3\n"
   ]
  },
  {
   "cell_type": "code",
   "execution_count": null,
   "metadata": {},
   "outputs": [],
   "source": [
    "def missing_num(nums: List) -> int:\n",
    "  # TODO"
   ]
  },
  {
   "cell_type": "markdown",
   "metadata": {},
   "source": [
    "\n",
    "## Part 2:\n",
    "\n",
    "-   Paraphrase the problem in your own words\n"
   ]
  },
  {
   "cell_type": "markdown",
   "metadata": {},
   "source": [
    "Imagine you have a list of numbers where each number is between `0` and the length of the list (let's call this length `n`). Some numbers in this range might be missing from your list. Your task is to figure out which numbers from `0` to `n` aren't present in the list. If every number in that range is included, you should `return -1` to indicate that nothing is missing."
   ]
  },
  {
   "cell_type": "markdown",
   "metadata": {},
   "source": [
    "- In this .ipynb file, there are examples that illustrate how the code should work (the examples provided above). Create 2 new examples for the question you have been assigned, that demonstrate you understand the problem. For question 1 and 2, you don't need to create the tree demonstration, just the input and output.\n"
   ]
  },
  {
   "cell_type": "markdown",
   "metadata": {},
   "source": [
    "Input: `lst = [4, 2, 7, 5]`\n",
    "Output: [0, 1, 3, 6]\n",
    "\n",
    "Input: `lst = [2, 12, 5]`\n",
    "Output: [0, 1, 3, 4, 6, 7, 8, 9, 10, 11]\n",
    "\n",
    "Input: `lst = [0, 1, 2, 3]`\n",
    "Output: [-1]\n",
    "\n",
    "Input: `lst = []`\n",
    "Output: [0]"
   ]
  },
  {
   "cell_type": "markdown",
   "metadata": {},
   "source": [
    "\n",
    "-   Code the solution to your assigned problem in Python (code chunk). Try to find the best time and space complexity solution!\n"
   ]
  },
  {
   "cell_type": "code",
   "execution_count": 7,
   "metadata": {},
   "outputs": [
    {
     "name": "stdout",
     "output_type": "stream",
     "text": [
      "[1]\n",
      "[2, 3, 4]\n",
      "[4, 9]\n",
      "[0, 1, 3, 6]\n",
      "[0, 1, 3, 4, 6, 7, 8, 9, 10, 11]\n",
      "-1\n",
      "[0]\n"
     ]
    }
   ],
   "source": [
    "def missing_num(nums):\n",
    "    # If the list is empty, the only missing number in the range [0, 0] is 0 itself\n",
    "    if not nums:\n",
    "        return [0]\n",
    "    \n",
    "    # Find the maximum number to determine the range (upper bound 'n')\n",
    "    n = max(nums)\n",
    "    \n",
    "    # Create a list to track which numbers are present in the input list\n",
    "    # Initialize all as False (missing)\n",
    "    present = [False] * (n + 1)\n",
    "    \n",
    "    # Check and mark the numbers that are present in the input list\n",
    "    for num in nums:\n",
    "        if 0 <= num <= n:\n",
    "            present[num] = True   # Mark as present\n",
    "    \n",
    "    # Iterate through the range [0, n] and collect all numbers that are not marked as present\n",
    "    missing = []\n",
    "    for i in range(n + 1):\n",
    "        if not present[i]:\n",
    "            missing.append(i)\n",
    "    \n",
    "    # Returns the missing numbers list , if no numbers are missing, return -1\n",
    "    return missing if missing else -1\n",
    "\n",
    "# Example Run:\n",
    "print(missing_num([0, 2]))                        # Output: [1]\n",
    "print(missing_num([5, 0, 1]))                     # Output: [2, 3, 4]\n",
    "print(missing_num([6, 8, 2, 3, 5, 7, 0, 1, 10]))  # Output: [4, 9]\n",
    "print(missing_num([4, 2, 7, 5]))                  # Output: [0, 1, 3, 6]\n",
    "print(missing_num([2, 12, 5]))                    # Output: [0, 1, 3, 4, 6, 7, 8, 9, 10, 11]\n",
    "print(missing_num([0, 1, 2, 3]))                  # Output: -1\n",
    "print(missing_num([]))                            # Output: [0]"
   ]
  },
  {
   "cell_type": "markdown",
   "metadata": {},
   "source": [
    "\n",
    "-   Explain why your solution works\n"
   ]
  },
  {
   "cell_type": "markdown",
   "metadata": {},
   "source": [
    "My approach involves a few simple steps:\n",
    "\n",
    "1. **Identify the Range**:  \n",
    "   First, I find the highest number in the list to determine the range we’re interested in, which is from 0 up to that maximum number (n).\n",
    "\n",
    "2. **Track Present Numbers**:  \n",
    "   I create a list called `present` with `n + 1` elements (to include 0). Each index in this list corresponds to a number in our range. Initially, all values are set to `False`, meaning we assume no numbers are present.\n",
    "\n",
    "3. **Mark the Numbers We Have**:  \n",
    "   I go through each number in the input list and mark the corresponding index in the `present` list as `True`. This way, we know which numbers are actually in the list.\n",
    "\n",
    "4. **Find the Missing Numbers**:  \n",
    "   Finally, I scan through the `present` list. Any index that remains `False` indicates that the corresponding number is missing from the input list. I collect all such numbers into a `missing` list.\n",
    "\n",
    "5. **Handle Edge Cases**:  \n",
    "   If there are no missing numbers (i.e., the `missing` list is empty), I return `-1` to indicate that nothing is missing.\n",
    "\n",
    "This method ensures that we efficiently identify all missing numbers without missing any, even if there are multiple numbers missing from the range.\n"
   ]
  },
  {
   "cell_type": "markdown",
   "metadata": {},
   "source": [
    "\n",
    "-   Explain the problem’s time and space complexity\n"
   ]
  },
  {
   "cell_type": "markdown",
   "metadata": {},
   "source": [
    "\n",
    "**Time Complexity:**\n",
    "\n",
    "- **Finding the Maximum**: `O(n)`  \n",
    "  We need to scan the entire list once to find the maximum number.\n",
    "  \n",
    "- **Marking Presence**: `O(n)`  \n",
    "  We go through the list again to mark which numbers are present.\n",
    "  \n",
    "- **Identifying Missing Numbers**: `O(n)`  \n",
    "  We iterate through the `present` list to find missing numbers.\n",
    "  \n",
    "- **Total**: `O(n)`  \n",
    "  The operations are sequential and each takes linear time relative to the size of the input list.\n",
    "\n",
    "---\n",
    "\n",
    "**Space Complexity:**\n",
    "\n",
    "- **Present List**: `O(n)`  \n",
    "  We use an additional list to track the presence of numbers, which scales linearly with the size of the input.\n",
    "  \n",
    "- **Missing List**: `O(m)`  \n",
    "  Where `m` is the number of missing numbers. In the worst case, `m` could be `n`, but typically, it’s much smaller.\n",
    "  \n",
    "- **Total**: `O(n)`  \n",
    "  The dominant space usage comes from the `present` list.\n"
   ]
  },
  {
   "cell_type": "markdown",
   "metadata": {},
   "source": [
    "\n",
    "-   Explain the thinking to an alternative solution (no coding required, but a classmate reading this should be able to code it up based off your text)\n"
   ]
  },
  {
   "cell_type": "markdown",
   "metadata": {},
   "source": [
    "**Using Set Operations (using the uniqueness of set operator)**\n",
    "\n",
    "1. **Create a Complete Set**:  \n",
    "   Start by generating a set that contains all numbers from `0` to `n` (where `n` is the maximum number in your list). This represents the complete range of numbers we’re interested in.\n",
    "\n",
    "2. **Convert the Input List to a Set**:  \n",
    "   Transform your input list into a set. This helps in quickly checking which numbers are present without worrying about duplicates.\n",
    "\n",
    "3. **Find the Difference**:  \n",
    "   Subtract the set of numbers present in your input list from the complete set. The result will be a set of numbers that are missing from your input.\n",
    "\n",
    "4. **Handle the Result**:  \n",
    "   - If the resulting set is empty, it means no numbers are missing, so return `-1`.  \n",
    "   - Otherwise, convert the set of missing numbers into a list and return it.\n",
    "\n",
    "---\n",
    "\n",
    "### Why This Works:\n",
    "\n",
    "Sets are excellent for operations like union, intersection, and difference. By leveraging the difference operation, we can effortlessly identify which numbers are absent from the input list compared to the complete range."
   ]
  },
  {
   "cell_type": "markdown",
   "metadata": {},
   "source": [
    "## Evaluation Criteria\n",
    "\n",
    "-   Problem is accurately stated\n",
    "\n",
    "-   Two examples are correct and easily understandable\n",
    "\n",
    "-   Correctness, time, and space complexity of the coding solution\n",
    "\n",
    "-   Clarity in explaining why the solution works, its time and space complexity\n",
    "\n",
    "-   Clarity in the proposal to the alternative solution"
   ]
  },
  {
   "cell_type": "markdown",
   "metadata": {},
   "source": [
    "## Submission Information\n",
    "\n",
    "🚨 **Please review our [Assignment Submission Guide](https://github.com/UofT-DSI/onboarding/blob/main/onboarding_documents/submissions.md)** 🚨 for detailed instructions on how to format, branch, and submit your work. Following these guidelines is crucial for your submissions to be evaluated correctly.\n",
    "\n",
    "### Submission Parameters:\n",
    "* Submission Due Date: `HH:MM AM/PM - DD/MM/YYYY`\n",
    "* The branch name for your repo should be: `assignment-1`\n",
    "* What to submit for this assignment:\n",
    "    * This Jupyter Notebook (assignment_1.ipynb) should be populated and should be the only change in your pull request.\n",
    "* What the pull request link should look like for this assignment: `https://github.com/<your_github_username>/algorithms_and_data_structures/pull/<pr_id>`\n",
    "    * Open a private window in your browser. Copy and paste the link to your pull request into the address bar. Make sure you can see your pull request properly. This helps the technical facilitator and learning support staff review your submission easily.\n",
    "\n",
    "Checklist:\n",
    "- [ ] Create a branch called `assignment-1`.\n",
    "- [ ] Ensure that the repository is public.\n",
    "- [ ] Review [the PR description guidelines](https://github.com/UofT-DSI/onboarding/blob/main/onboarding_documents/submissions.md#guidelines-for-pull-request-descriptions) and adhere to them.\n",
    "- [ ] Verify that the link is accessible in a private browser window.\n",
    "\n",
    "If you encounter any difficulties or have questions, please don't hesitate to reach out to our team via our Slack at `#cohort-3-help`. Our Technical Facilitators and Learning Support staff are here to help you navigate any challenges."
   ]
  }
 ],
 "metadata": {
  "kernelspec": {
   "display_name": "dsi_participant",
   "language": "python",
   "name": "python3"
  },
  "language_info": {
   "codemirror_mode": {
    "name": "ipython",
    "version": 3
   },
   "file_extension": ".py",
   "mimetype": "text/x-python",
   "name": "python",
   "nbconvert_exporter": "python",
   "pygments_lexer": "ipython3",
   "version": "3.9.19"
  }
 },
 "nbformat": 4,
 "nbformat_minor": 4
}
