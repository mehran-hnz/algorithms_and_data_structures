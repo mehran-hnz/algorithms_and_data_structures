{
 "cells": [
  {
   "cell_type": "markdown",
   "metadata": {},
   "source": [
    "# Practice Interview\n",
    "\n",
    "## Objective\n",
    "\n",
    "_*The partner assignment aims to provide participants with the opportunity to practice coding in an interview context. You will analyze your partner's Assignment 1. Moreover, code reviews are common practice in a software development team. This assignment should give you a taste of the code review process.*_\n",
    "\n",
    "## Group Size\n",
    "\n",
    "Each group should have 2 people. You will be assigned a partner\n",
    "\n",
    "## Part 1:\n",
    "\n",
    "You and your partner must share each other's Assignment 1 submission."
   ]
  },
  {
   "cell_type": "markdown",
   "metadata": {},
   "source": [
    "> My partner's assignment was to answer **Question 2** as per [this link](https://github.com/erfan-nazari/algorithms_and_data_structures/pulls).\n"
   ]
  },
  {
   "cell_type": "markdown",
   "metadata": {},
   "source": [
    "\n",
    "## Part 2:\n",
    "\n",
    "Create a Jupyter Notebook, create 6 of the following headings, and complete the following for your partner's assignment 1:\n",
    "\n",
    "-   Paraphrase the problem in your own words.\n"
   ]
  },
  {
   "cell_type": "markdown",
   "metadata": {},
   "source": [
    "> The task is to take the root of a binary tree and find all the possible paths that start from the root and end at any leaf node. Essentially, we need to list every route you can take from the top of the tree down to each leaf, regardless of the order."
   ]
  },
  {
   "cell_type": "markdown",
   "metadata": {},
   "source": [
    "\n",
    "-   Create 1 new example that demonstrates you understand the problem. Trace/walkthrough 1 example that your partner made and explain it.\n"
   ]
  },
  {
   "cell_type": "markdown",
   "metadata": {},
   "source": [
    "```\n",
    "     4\n",
    "    / \\\n",
    "   2   6\n",
    "  /    /\\\n",
    " 1    5  7\n",
    "```\n",
    "\n",
    ">Input = [4, 2, 6, 1, 5, 7]\n",
    "\n",
    "root = [4, 2, 6, 1, 5, 7]\n",
    "\n",
    "root = TreeNode(4)\n",
    "\n",
    "root.left = TreeNode(2)\n",
    "\n",
    "root.right = TreeNode(6)\n",
    "\n",
    "root.left.left = TreeNode(1)\n",
    "\n",
    "root.right.left = TreeNode(5)\n",
    "\n",
    "root.right.right = TreeNode(7)\n",
    "\n",
    ">Output = [[4, 2, 1], [4, 6, 5], [4, 6, 7]]"
   ]
  },
  {
   "cell_type": "markdown",
   "metadata": {},
   "source": [
    "**Tracing Partner's Example:**\n",
    "\n",
    "root = TreeNode(5)\n",
    "\n",
    "root.left = TreeNode(0)\n",
    "\n",
    "root.right = TreeNode(2)\n",
    "\n",
    "root.left.left = TreeNode(1)\n",
    "\n",
    "root.left.right = TreeNode(3)\n",
    "\n",
    "root.right.left = TreeNode(1)\n",
    "\n",
    "root.right.right = TreeNode(10)\n",
    "\n",
    "root.left.right.left = TreeNode(9)\n",
    "\n",
    "root.right.left.right = TreeNode(7)\n",
    "\n",
    "Input: root\n",
    "\n",
    "**Steps to Find All Root-to-Leaf Paths:**\n",
    "\n",
    "1. **Start at the Root:** Begin with the root node `5`.\n",
    "2. **First Left Path:**\n",
    "   - Move to the left child `0`.\n",
    "   - From `0`, go to its left child `1`, which is a leaf. Add the path `[5, 0, 1]`.\n",
    "   - Back at `0`, move to the right child `3`.\n",
    "   - From `3`, go to its left child `9`, which is a leaf. Add the path `[5, 0, 3, 9]`.\n",
    "3. **First Right Path:**\n",
    "   - Go back to the root `5` and move to the right child `2`.\n",
    "   - From `2`, go to its left child `1`, which is a leaf. Add the path `[5, 2, 1, 7]`.\n",
    "   - Back at `2`, move to the right child `10`, another leaf. Add the path `[5, 2, 10]`.\n",
    "4. **Result:** All root-to-leaf paths are now:\n",
    "\n",
    "\n",
    ">Output: [[5, 0, 1], [5, 0, 3, 9], [5, 2, 1, 7], [5, 2, 10]]\n"
   ]
  },
  {
   "cell_type": "markdown",
   "metadata": {},
   "source": [
    "\n",
    "-   Copy the solution your partner wrote. \n"
   ]
  },
  {
   "cell_type": "code",
   "execution_count": null,
   "metadata": {},
   "outputs": [],
   "source": [
    "# Definition for a binary tree node.\n",
    "class TreeNode(object):\n",
    "    def __init__(self, val = 0, left = None, right = None):\n",
    "        self.val = val\n",
    "        self.left = left\n",
    "        self.right = right\n",
    "\n",
    "#The function will add the current node value to the current_path and call itself to traverse left and right paths if they exist.\n",
    "#If the current node is a leaf (i.e. there is no left and no right children), we add a copy of the current_path to the list paths.\n",
    "#Finally, we remove the current node from the current_path list as we are going back to the parent of this node.\n",
    "def traverse(node, current_path, paths):\n",
    "    current_path.append(node.val)\n",
    "    if node.left:\n",
    "        traverse(node.left, current_path, paths)\n",
    "    if node.right:\n",
    "        traverse(node.right, current_path, paths)\n",
    "    if node.left == None and node.right == None:\n",
    "        paths.append(current_path.copy())\n",
    "    current_path.pop()\n",
    "\n",
    "#The function that finds all paths from the root to a leaf. The list paths stores all such paths.\n",
    "#The current_path is representing the path from the root until the current node.\n",
    "#We call the above function to traverse the tree.\n",
    "def bt_path(root: TreeNode) -> list[list[int]]:\n",
    "    paths = []\n",
    "    current_path = []\n",
    "    if root:\n",
    "        traverse(root, current_path, paths)\n",
    "    return paths"
   ]
  },
  {
   "cell_type": "markdown",
   "metadata": {},
   "source": [
    "\n",
    "-   Explain why their solution works in your own words.\n"
   ]
  },
  {
   "cell_type": "markdown",
   "metadata": {},
   "source": [
    "The solution uses depth-first search (DFS) to find all the root-to-leaf paths in a tree. It keeps track of the nodes it visits with a `current_path` list. As it moves through the tree, it adds each node's value to this list. When it reaches a leaf node (one with no left or right children), it makes a copy of `current_path` and adds it to the `paths` list. After finishing a branch, it backtracks by removing the last node from `current_path` so the list is ready for other branches. In other words their appraoch is as follows:\n",
    "\n",
    "1. **Start at the Root:** They begin at the root node of the tree.\n",
    "2. **Track the Path:** As they move down the tree, they keep a list called `current_path` that records the nodes they’ve visited.\n",
    "3. **Explore Left and Right:** For each node, they first go down the left child, then the right child, adding each node’s value to `current_path`.\n",
    "4. **Identify Leaf Nodes:** When they reach a leaf node (a node with no children), they copy the `current_path` and add it to the `paths` list.\n",
    "5. **Backtrack:** After reaching a leaf, they remove the last node from `current_path` to backtrack and explore other paths.\n",
    "6. **Repeat Until Done:** This process continues until all possible paths from the root to every leaf have been recorded.\n",
    "\n",
    "By following these steps, their solution ensures that every possible route from the root to a leaf is found and stored.\n"
   ]
  },
  {
   "cell_type": "markdown",
   "metadata": {},
   "source": [
    "\n",
    "-   Explain the problem’s time and space complexity in your own words.\n"
   ]
  },
  {
   "cell_type": "markdown",
   "metadata": {},
   "source": [
    "For time complexity, the algorithm visits each node exactly once, which gives us a base of \\(O(n)\\), where \\(n\\) is the number of nodes. However, for each leaf node, it also copies the current path, which can be up to the height of the tree (\\(d\\)). So overall, the time complexity becomes \\(O(n * d)\\). In a balanced tree, \\(d\\) is roughly \\(log(n)\\), making the complexity \\(O(n logn)\\). In the worst case, where the tree is skewed, \\(d\\) can be \\(n\\), resulting in \\(O(n^2)\\).\n",
    "\n",
    "Regarding space complexity, the main factors are the `paths` list and the `current_path` list. The `paths` list can store up to \\(l\\) paths (where \\(l\\) is the number of leaves), each of length up to \\(d\\). So the space needed is \\(O(l * d)\\). Additionally, the recursion stack can go as deep as the tree's height, which is \\(O(d)\\). Therefore, the overall space complexity is \\(O(l * d)\\). worst case: \\(O(n^2)\\).\n"
   ]
  },
  {
   "cell_type": "markdown",
   "metadata": {},
   "source": [
    "\n",
    "-   Critique your partner's solution, including explanation, and if there is anything that should be adjusted.\n"
   ]
  },
  {
   "cell_type": "markdown",
   "metadata": {},
   "source": [
    "Their solution is really well put together and does a great job of using recursion to find all the paths from the root to the leaves. The explanations they provided are clear and make it easy to understand how the algorithm works. One thing that could make their code even better is adding a helper function to generate the tree from an input array. This isn't mandatory, but it would make setting up examples easier and more streamlined.\n",
    "In summary we can consider these points:\n",
    "\n",
    "1. **Clear and Logical:** The code is easy to follow, and the step-by-step comments help understand the process.\n",
    "2. **Efficient Use of Recursion:** They effectively use recursion to explore all possible paths without missing any.\n",
    "3. **Helper Function Suggestion:** \n",
    "   - It would be even better if they included a helper function to build the tree from an input array. \n",
    "   - This isn’t required, but it would make setting up examples quicker and the code more reusable.\n",
    "4. **Additional Comments:** Adding a few more comments in the code could help others understand each part better.\n",
    "5. **Overall Structure:** The structure is clean and well-organized, making the solution easy to read and maintain.\n",
    "\n",
    "**Overall:** Their approach is effective and well-explained. Adding a helper function and a few extra comments would make it even more robust and user-friendly.\n"
   ]
  },
  {
   "cell_type": "markdown",
   "metadata": {},
   "source": [
    "\n",
    "## Part 3:\n",
    "\n",
    "Please write a 200 word reflection documenting your process from assignment 1, and your presentation and review experience with your partner at the bottom of the Jupyter Notebook under a new heading \"Reflection.\" Again, export this Notebook as pdf.\n"
   ]
  },
  {
   "cell_type": "markdown",
   "metadata": {},
   "source": [
    "### Reflection"
   ]
  },
  {
   "cell_type": "markdown",
   "metadata": {},
   "source": [
    ">Working on Assignment 1 was a really rewarding experience. I started by diving into the problem to make sure I fully understood what was being asked. Once I had a clear idea, I began coding the `missing_num` function, focusing on making it both efficient and easy to read. It was satisfying to see the solution come together, especially after testing it with different edge cases like empty lists and scenarios where no numbers were missing.\n",
    "\n",
    ">Reviewing my partner’s code was equally insightful. Their approach to tree traversals was spot on, and their explanations made the recursive logic easy to follow. Going through their examples helped me see how the algorithm handles various tree structures, which deepened my understanding. We spent time discussing the time and space complexities, and it was cool to appreciate how efficient their solution was.\n",
    "\n",
    ">Giving feedback was a great way to improve our communication skills. It was important to be clear and constructive, ensuring that our solutions were not only correct but also well-explained. Collaborating like this really boosted both of our coding and analytical abilities. Overall, this assignment taught me a lot about problem-solving, teamwork, and the importance of clear explanations in coding."
   ]
  },
  {
   "cell_type": "markdown",
   "metadata": {},
   "source": [
    "\n",
    "## Evaluation Criteria\n",
    "\n",
    "We are looking for the similar points as Assignment 1\n",
    "\n",
    "-   Problem is accurately stated\n",
    "\n",
    "-   New example is correct and easily understandable\n",
    "\n",
    "-   Correctness, time, and space complexity of the coding solution\n",
    "\n",
    "-   Clarity in explaining why the solution works, its time and space complexity\n",
    "\n",
    "-   Quality of critique of your partner's assignment, if necessary\n"
   ]
  },
  {
   "cell_type": "markdown",
   "metadata": {},
   "source": [
    "## Submission Information\n",
    "\n",
    "🚨 **Please review our [Assignment Submission Guide](https://github.com/UofT-DSI/onboarding/blob/main/onboarding_documents/submissions.md)** 🚨 for detailed instructions on how to format, branch, and submit your work. Following these guidelines is crucial for your submissions to be evaluated correctly.\n",
    "\n",
    "### Submission Parameters:\n",
    "* Submission Due Date: `HH:MM AM/PM - DD/MM/YYYY`\n",
    "* The branch name for your repo should be: `assignment-2`\n",
    "* What to submit for this assignment:\n",
    "    * This Jupyter Notebook (assignment_2.ipynb) should be populated and should be the only change in your pull request.\n",
    "* What the pull request link should look like for this assignment: `https://github.com/<your_github_username>/algorithms_and_data_structures/pull/<pr_id>`\n",
    "    * Open a private window in your browser. Copy and paste the link to your pull request into the address bar. Make sure you can see your pull request properly. This helps the technical facilitator and learning support staff review your submission easily.\n",
    "\n",
    "Checklist:\n",
    "- [ ] Created a branch with the correct naming convention.\n",
    "- [ ] Ensured that the repository is public.\n",
    "- [ ] Reviewed the PR description guidelines and adhered to them.\n",
    "- [ ] Verify that the link is accessible in a private browser window.\n",
    "\n",
    "If you encounter any difficulties or have questions, please don't hesitate to reach out to our team via our Slack at `#cohort-3-help`. Our Technical Facilitators and Learning Support staff are here to help you navigate any challenges.\n"
   ]
  }
 ],
 "metadata": {
  "language_info": {
   "name": "python"
  }
 },
 "nbformat": 4,
 "nbformat_minor": 2
}
